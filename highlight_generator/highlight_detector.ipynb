{
 "cells": [
  {
   "cell_type": "code",
   "execution_count": 1,
   "metadata": {},
   "outputs": [],
   "source": [
    "import json"
   ]
  },
  {
   "cell_type": "code",
   "execution_count": 2,
   "metadata": {},
   "outputs": [],
   "source": [
    "path = \"./weights/NetVLAD++_audio/outputs_test/\""
   ]
  },
  {
   "cell_type": "code",
   "execution_count": 25,
   "metadata": {},
   "outputs": [],
   "source": [
    "confidence_threshold = 0.6\n",
    "highlight_scenes = ['Penalty', 'Goal', 'Shots on target', 'Shots off target', 'Clearance', 'Foul', 'Indirect free-kick', 'Direct free-kick', 'Corner', 'Yellow card', 'Red card', 'Yellow->red card']"
   ]
  },
  {
   "cell_type": "code",
   "execution_count": 27,
   "metadata": {},
   "outputs": [
    {
     "name": "stdout",
     "output_type": "stream",
     "text": [
      "[(527, 'Shots off target'), (565, 'Shots on target'), (667, 'Foul'), (1023, 'Foul'), (1646, 'Foul'), (1709, 'Foul'), (1762, 'Shots on target'), (1763, 'Goal'), (2131, 'Foul'), (2227, 'Foul'), (2227, 'Indirect free-kick'), (2250, 'Foul'), (2291, 'Shots on target'), (2292, 'Shots off target'), (2359, 'Foul'), (2639, 'Foul'), (2683, 'Foul'), (2686, 'Direct free-kick'), (2688, 'Shots on target')]\n",
      "[(52, 'Foul'), (52, 'Direct free-kick'), (533, 'Foul'), (1267, 'Foul'), (1289, 'Foul'), (1358, 'Foul'), (1466, 'Foul'), (1577, 'Foul'), (1791, 'Foul'), (2047, 'Foul'), (2113, 'Corner'), (2119, 'Shots off target'), (2174, 'Foul'), (2174, 'Indirect free-kick'), (2197, 'Shots on target'), (2198, 'Goal'), (2319, 'Shots off target'), (2476, 'Foul'), (2548, 'Shots on target'), (2737, 'Foul'), (3012, 'Foul')]\n",
      "19\n",
      "21\n"
     ]
    }
   ],
   "source": [
    "with open(path + \"england_epl/2014-2015/2015-05-17 - 18-00 Manchester United 1 - 1 Arsenal/results_spotting.json\", encoding='utf-8') as f:\n",
    "    data = json.load(f)\n",
    "\n",
    "    first_half_times = []\n",
    "    second_half_times = []\n",
    "\n",
    "    for x in filter(lambda x : float(x['confidence']) > confidence_threshold and x['label'] in highlight_scenes, data['predictions'] ):\n",
    "\n",
    "        time_seconde_form = int(x['gameTime'][4:].split(\":\")[0])*60 + int(x['gameTime'][4:].split(\":\")[1])\n",
    "\n",
    "        if(x['gameTime'][0] == '1'):\n",
    "            first_half_times.append((time_seconde_form, x['label']))\n",
    "        else:\n",
    "            second_half_times.append((time_seconde_form, x['label']))\n",
    "            \n",
    "        first_half_times.sort(key=lambda x : x[0])\n",
    "        second_half_times.sort(key=lambda x : x[0])\n",
    "    \n",
    "    print(first_half_times)\n",
    "    print(second_half_times)\n",
    "    print(len(first_half_times))\n",
    "    print(len(second_half_times))\n",
    "\n",
    "    "
   ]
  },
  {
   "cell_type": "code",
   "execution_count": 28,
   "metadata": {},
   "outputs": [],
   "source": [
    "from moviepy.editor import *"
   ]
  },
  {
   "cell_type": "code",
   "execution_count": 29,
   "metadata": {},
   "outputs": [
    {
     "name": "stderr",
     "output_type": "stream",
     "text": [
      "\n",
      "\u001b[A                                                                    \n",
      "\u001b[A                                                                    "
     ]
    },
    {
     "name": "stdout",
     "output_type": "stream",
     "text": [
      "Moviepy - Building video final1test.mp4.\n",
      "MoviePy - Writing audio in final1testTEMP_MPY_wvf_snd.mp3\n"
     ]
    },
    {
     "name": "stderr",
     "output_type": "stream",
     "text": [
      "                                                                        \n",
      "\u001b[A                                                                    \n",
      "\u001b[A                                                                    "
     ]
    },
    {
     "name": "stdout",
     "output_type": "stream",
     "text": [
      "MoviePy - Done.\n",
      "Moviepy - Writing video final1test.mp4\n",
      "\n"
     ]
    },
    {
     "name": "stderr",
     "output_type": "stream",
     "text": [
      "                                                                   \n",
      "\u001b[A                                                                    \n",
      "\u001b[A                                                                    "
     ]
    },
    {
     "name": "stdout",
     "output_type": "stream",
     "text": [
      "Moviepy - Done !\n",
      "Moviepy - video ready final1test.mp4\n"
     ]
    }
   ],
   "source": [
    "test_clip = VideoFileClip(\"./data/soccernet/england_epl/2014-2015/2015-05-17 - 18-00 Manchester United 1 - 1 Arsenal/1_720p.mkv\")\n",
    "\n",
    "clip_list = []\n",
    "for x in first_half_times:\n",
    "    if x[0]+25 > 2700:\n",
    "        end = 2700\n",
    "    else:\n",
    "        end = x[0]+25\n",
    "    start = x[0]-5\n",
    "    clip_list.append(test_clip.subclip(start, end))\n",
    "\n",
    "\n",
    "final_clip = concatenate_videoclips(clip_list)\n",
    "final_clip.write_videofile(\"final1test.mp4\")\n"
   ]
  },
  {
   "cell_type": "code",
   "execution_count": 30,
   "metadata": {},
   "outputs": [
    {
     "name": "stderr",
     "output_type": "stream",
     "text": [
      "\n",
      "\u001b[A                                                                    \n",
      "\u001b[A                                                                      "
     ]
    },
    {
     "name": "stdout",
     "output_type": "stream",
     "text": [
      "Moviepy - Building video final2test.mp4.\n",
      "MoviePy - Writing audio in final2testTEMP_MPY_wvf_snd.mp3\n"
     ]
    },
    {
     "name": "stderr",
     "output_type": "stream",
     "text": [
      "                                                                        \n",
      "\u001b[A                                                                      \n",
      "\u001b[A                                                                      "
     ]
    },
    {
     "name": "stdout",
     "output_type": "stream",
     "text": [
      "MoviePy - Done.\n",
      "Moviepy - Writing video final2test.mp4\n",
      "\n"
     ]
    },
    {
     "name": "stderr",
     "output_type": "stream",
     "text": [
      "                                                                 \n",
      "\u001b[A                                                                      \n",
      "\u001b[A                                                                      "
     ]
    },
    {
     "name": "stdout",
     "output_type": "stream",
     "text": [
      "Moviepy - Done !\n",
      "Moviepy - video ready final2test.mp4\n"
     ]
    }
   ],
   "source": [
    "test_clip = VideoFileClip(\"./data/soccernet/england_epl/2014-2015/2015-05-17 - 18-00 Manchester United 1 - 1 Arsenal/2_720p.mkv\")\n",
    "\n",
    "clip_list = []\n",
    "for x in second_half_times:\n",
    "    if x[0]+25 > 2700:\n",
    "        end = 2700\n",
    "    else:\n",
    "        end = x[0]+25\n",
    "    start = x[0]-5\n",
    "    clip_list.append(test_clip.subclip(start, end))\n",
    "\n",
    "\n",
    "final_clip = concatenate_videoclips(clip_list)\n",
    "final_clip.write_videofile(\"final2test.mp4\")\n"
   ]
  },
  {
   "cell_type": "code",
   "execution_count": null,
   "metadata": {},
   "outputs": [],
   "source": [
    "ci"
   ]
  },
  {
   "cell_type": "code",
   "execution_count": null,
   "metadata": {},
   "outputs": [],
   "source": []
  }
 ],
 "metadata": {
  "kernelspec": {
   "display_name": "Python 3.7.10 ('soccer')",
   "language": "python",
   "name": "python3"
  },
  "language_info": {
   "codemirror_mode": {
    "name": "ipython",
    "version": 3
   },
   "file_extension": ".py",
   "mimetype": "text/x-python",
   "name": "python",
   "nbconvert_exporter": "python",
   "pygments_lexer": "ipython3",
   "version": "3.7.10 (default, Feb 26 2021, 18:47:35) \n[GCC 7.3.0]"
  },
  "orig_nbformat": 4,
  "vscode": {
   "interpreter": {
    "hash": "f7a8a9544b610cd455eb6f51746c6bef7d2676b84c65868c975e4e2018a872ad"
   }
  }
 },
 "nbformat": 4,
 "nbformat_minor": 2
}
